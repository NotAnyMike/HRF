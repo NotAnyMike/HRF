{
 "cells": [
  {
   "cell_type": "code",
   "execution_count": 1,
   "metadata": {},
   "outputs": [],
   "source": [
    "from tensorboard.backend.event_processing.event_accumulator import EventAccumulator\n",
    "import matplotlib.pyplot as plt\n",
    "import numpy as np\n",
    "import pickle\n",
    "\n",
    "%matplotlib inline"
   ]
  },
  {
   "cell_type": "code",
   "execution_count": 2,
   "metadata": {},
   "outputs": [],
   "source": [
    "def smooth(scalars, weight):  # Weight between 0 and 1\n",
    "    last = scalars[0]  # First value in the plot (first timestep)\n",
    "    smoothed = list()\n",
    "    for point in scalars:\n",
    "        smoothed_val = last * weight + (1 - weight) * point  # Calculate smoothed value\n",
    "        smoothed.append(smoothed_val)                        # Save it\n",
    "        last = smoothed_val                                  # Anchor the last smoothed value\n",
    "\n",
    "    return smoothed"
   ]
  },
  {
   "cell_type": "markdown",
   "metadata": {},
   "source": [
    "---\n",
    "\n",
    "# LOADING FROM TENSORBOARD\n",
    "avoid running this if there is no access to logs"
   ]
  },
  {
   "cell_type": "markdown",
   "metadata": {},
   "source": [
    "---\n",
    "\n",
    "### n2n_a"
   ]
  },
  {
   "cell_type": "code",
   "execution_count": 3,
   "metadata": {},
   "outputs": [
    {
     "name": "stderr",
     "output_type": "stream",
     "text": [
      "Found more than one graph event per run, or there was a metagraph containing a graph_def, as well as one or more graph events.  Overwriting the graph with the newest event.\n",
      "Found more than one graph event per run, or there was a metagraph containing a graph_def, as well as one or more graph events.  Overwriting the graph with the newest event.\n"
     ]
    },
    {
     "data": {
      "text/plain": [
       "<tensorboard.backend.event_processing.event_accumulator.EventAccumulator at 0x1305e95f8>"
      ]
     },
     "execution_count": 3,
     "metadata": {},
     "output_type": "execute_result"
    }
   ],
   "source": [
    "n2n_a_1 = EventAccumulator('../experiments/28_Turn_n2n/logs/PPO2_1')\n",
    "n2n_a_1.Reload()\n",
    "\n",
    "n2n_a_2 = EventAccumulator('../experiments/29_Turn_n2n_cont/logs/PPO2_1')\n",
    "n2n_a_2.Reload()\n",
    "\n",
    "n2n_a_3 = EventAccumulator('../experiments/29_Turn_n2n_cont2/logs/PPO2_1')\n",
    "n2n_a_3.Reload()\n",
    "\n",
    "n2n_a_4 = EventAccumulator('../experiments/30_Turn_n2n_cont3/logs/PPO2_1')\n",
    "n2n_a_4.Reload()"
   ]
  },
  {
   "cell_type": "code",
   "execution_count": 4,
   "metadata": {},
   "outputs": [],
   "source": [
    "a_w_times_1, a_step_nums_1, a_vals_1 = zip(*n2n_a_1.Scalars('episode/episode_reward'))\n",
    "a_w_times_2, a_step_nums_2, a_vals_2 = zip(*n2n_a_2.Scalars('episode/episode_reward'))\n",
    "a_w_times_3, a_step_nums_3, a_vals_3 = zip(*n2n_a_3.Scalars('episode/episode_reward'))\n",
    "a_w_times_4, a_step_nums_4, a_vals_4 = zip(*n2n_a_4.Scalars('episode/episode_reward'))\n",
    "\n",
    "a_step_nums_2 = tuple([step + max(a_step_nums_1) for step in a_step_nums_2])\n",
    "a_step_nums_3 = tuple([step + max(a_step_nums_2) for step in a_step_nums_3])\n",
    "a_step_nums_4 = tuple([step + max(a_step_nums_3) for step in a_step_nums_4])\n",
    "\n",
    "w_times_a   = a_w_times_1 + a_w_times_2 + a_w_times_3 + a_w_times_4\n",
    "step_nums_a = a_step_nums_1 + a_step_nums_2 + a_step_nums_3 + a_step_nums_4\n",
    "vals_a      = a_vals_1 + a_vals_2 + a_vals_3 + a_vals_4\n",
    "\n",
    "vals_a_smooth = smooth(vals_a,0.99)"
   ]
  },
  {
   "cell_type": "code",
   "execution_count": 5,
   "metadata": {},
   "outputs": [
    {
     "data": {
      "text/plain": [
       "[<matplotlib.lines.Line2D at 0x13e2c6908>]"
      ]
     },
     "execution_count": 5,
     "metadata": {},
     "output_type": "execute_result"
    },
    {
     "data": {
      "image/png": "[encoded data removed]",
      "text/plain": [
       "<Figure size 432x288 with 1 Axes>"
      ]
     },
     "metadata": {
      "needs_background": "light"
     },
     "output_type": "display_data"
    }
   ],
   "source": [
    "plt.plot(step_nums_a,vals_a_smooth)"
   ]
  },
  {
   "cell_type": "code",
   "execution_count": null,
   "metadata": {},
   "outputs": [],
   "source": [
    "a_w_times_1, a_step_nums_1, a_vals_1 = zip(*n2n_a_1.Scalars('input_info/discounted_rewards'))\n",
    "a_w_times_2, a_step_nums_2, a_vals_2 = zip(*n2n_a_2.Scalars('input_info/discounted_rewards'))\n",
    "a_w_times_3, a_step_nums_3, a_vals_3 = zip(*n2n_a_3.Scalars('input_info/discounted_rewards'))\n",
    "a_w_times_4, a_step_nums_4, a_vals_4 = zip(*n2n_a_4.Scalars('input_info/discounted_rewards'))\n",
    "\n",
    "a_step_nums_2 = tuple([step + max(a_step_nums_1) for step in a_step_nums_2])\n",
    "a_step_nums_3 = tuple([step + max(a_step_nums_2) for step in a_step_nums_3])\n",
    "a_step_nums_4 = tuple([step + max(a_step_nums_3) for step in a_step_nums_4])\n",
    "\n",
    "w_times_a_discounted   = a_w_times_1 + a_w_times_2 + a_w_times_3 + a_w_times_4\n",
    "step_nums_a_discounted = a_step_nums_1 + a_step_nums_2 + a_step_nums_3 + a_step_nums_4\n",
    "vals_a_discounted      = a_vals_1 + a_vals_2 + a_vals_3 + a_vals_4\n",
    "\n",
    "vals_a_smooth_discounted = smooth(vals_a_discounted,0.99)\n",
    "plt.plot(step_nums_a_discounted[400:],vals_a_smooth_discounted[400:])"
   ]
  },
  {
   "cell_type": "markdown",
   "metadata": {},
   "source": [
    "--- \n",
    "\n",
    "### n2n_b"
   ]
  },
  {
   "cell_type": "code",
   "execution_count": 6,
   "metadata": {},
   "outputs": [
    {
     "name": "stderr",
     "output_type": "stream",
     "text": [
      "Found more than one graph event per run, or there was a metagraph containing a graph_def, as well as one or more graph events.  Overwriting the graph with the newest event.\n"
     ]
    },
    {
     "data": {
      "text/plain": [
       "<tensorboard.backend.event_processing.event_accumulator.EventAccumulator at 0x13e3c0438>"
      ]
     },
     "execution_count": 6,
     "metadata": {},
     "output_type": "execute_result"
    }
   ],
   "source": [
    "n2n_b_1 = EventAccumulator('../experiments/65_n2n_b/logs/PPO2_1')\n",
    "n2n_b_1.Reload()\n",
    "\n",
    "n2n_b_2 = EventAccumulator('../experiments/66_n2n_b_cont/logs/PPO2_1')\n",
    "n2n_b_2.Reload()\n",
    "\n",
    "n2n_b_3 = EventAccumulator('../experiments/67_n2n_b_cont2/logs/PPO2_1')\n",
    "n2n_b_3.Reload()\n",
    "\n",
    "# E. g. get wall clock, number of steps and value for a scalar 'Accuracy'\n",
    "#w_times, step_nums, vals = zip(*event_acc.Scalars('Accuracy'))"
   ]
  },
  {
   "cell_type": "code",
   "execution_count": null,
   "metadata": {},
   "outputs": [],
   "source": [
    "b_w_times_1, b_step_nums_1, b_vals_1 = zip(*n2n_b_1.Scalars('input_info/discounted_rewards'))\n",
    "b_w_times_2, b_step_nums_2, b_vals_2 = zip(*n2n_b_2.Scalars('input_info/discounted_rewards'))\n",
    "b_w_times_3, b_step_nums_3, b_vals_3 = zip(*n2n_b_3.Scalars('input_info/discounted_rewards'))\n",
    "\n",
    "b_step_nums_2 = tuple([step + max(b_step_nums_1) for step in b_step_nums_2])\n",
    "b_step_nums_3 = tuple([step + max(b_step_nums_2) for step in b_step_nums_3])\n",
    "w_times_b_discounted = b_w_times_1 + b_w_times_2 + b_w_times_3\n",
    "step_nums_b_discounted = b_step_nums_1 + b_step_nums_2 + b_step_nums_3\n",
    "vals_b_discounted = b_vals_1 + b_vals_2 + b_vals_3\n",
    "\n",
    "vals_b_smooth_discounted = smooth(vals_b_discounted,0.99)\n",
    "plt.plot(step_nums_b_discounted[400:],vals_b_smooth_discounted[400:])"
   ]
  },
  {
   "cell_type": "code",
   "execution_count": 7,
   "metadata": {},
   "outputs": [
    {
     "data": {
      "text/plain": [
       "[<matplotlib.lines.Line2D at 0x14c67d2e8>]"
      ]
     },
     "execution_count": 7,
     "metadata": {},
     "output_type": "execute_result"
    },
    {
     "data": {
      "image/png": "[encoded data removed]",
      "text/plain": [
       "<Figure size 432x288 with 1 Axes>"
      ]
     },
     "metadata": {
      "needs_background": "light"
     },
     "output_type": "display_data"
    }
   ],
   "source": [
    "b_w_times_1, b_step_nums_1, b_vals_1 = zip(*n2n_b_1.Scalars('episode/episode_reward'))\n",
    "b_w_times_2, b_step_nums_2, b_vals_2 = zip(*n2n_b_2.Scalars('episode/episode_reward'))\n",
    "b_w_times_3, b_step_nums_3, b_vals_3 = zip(*n2n_b_3.Scalars('episode/episode_reward'))\n",
    "\n",
    "b_step_nums_2 = tuple([step + max(b_step_nums_1) for step in b_step_nums_2])\n",
    "b_step_nums_3 = tuple([step + max(b_step_nums_2) for step in b_step_nums_3])\n",
    "w_times_b = b_w_times_1 + b_w_times_2 + b_w_times_3\n",
    "step_nums_b = b_step_nums_1 + b_step_nums_2 + b_step_nums_3\n",
    "vals_b = b_vals_1 + b_vals_2 + b_vals_3\n",
    "\n",
    "vals_b_smooth = smooth(vals_b,0.99)\n",
    "plt.plot(step_nums_b,vals_b_smooth)"
   ]
  },
  {
   "cell_type": "markdown",
   "metadata": {},
   "source": [
    "---\n",
    "\n",
    "### n2n c"
   ]
  },
  {
   "cell_type": "code",
   "execution_count": 8,
   "metadata": {},
   "outputs": [
    {
     "name": "stderr",
     "output_type": "stream",
     "text": [
      "Found more than one graph event per run, or there was a metagraph containing a graph_def, as well as one or more graph events.  Overwriting the graph with the newest event.\n"
     ]
    },
    {
     "data": {
      "text/plain": [
       "[<matplotlib.lines.Line2D at 0x14fb46748>]"
      ]
     },
     "execution_count": 8,
     "metadata": {},
     "output_type": "execute_result"
    },
    {
     "data": {
      "image/png": "[encoded data removed]",
      "text/plain": [
       "<Figure size 432x288 with 1 Axes>"
      ]
     },
     "metadata": {
      "needs_background": "light"
     },
     "output_type": "display_data"
    }
   ],
   "source": [
    "n2n_c = EventAccumulator('../experiments/68_n2n_c/logs/PPO2_1')\n",
    "n2n_c.Reload()\n",
    "\n",
    "w_times_c, step_nums_c, vals_c = zip(*n2n_c.Scalars('episode/episode_reward'))\n",
    "\n",
    "vals_c_smooth = smooth(vals_c,0.99)\n",
    "plt.plot(step_nums_c, vals_c_smooth)"
   ]
  },
  {
   "cell_type": "code",
   "execution_count": null,
   "metadata": {},
   "outputs": [],
   "source": [
    "w_times_c_discounted, step_nums_c_discounted, vals_c_discounted = zip(*n2n_c.Scalars('input_info/discounted_rewards'))\n",
    "\n",
    "vals_c_smooth_discounted = smooth(vals_c_discounted,0.99)\n",
    "plt.plot(step_nums_c_discounted, vals_c_smooth_discounted)\n"
   ]
  },
  {
   "cell_type": "markdown",
   "metadata": {},
   "source": [
    "---\n",
    "\n",
    "### n2n d"
   ]
  },
  {
   "cell_type": "code",
   "execution_count": 9,
   "metadata": {},
   "outputs": [
    {
     "name": "stderr",
     "output_type": "stream",
     "text": [
      "Found more than one graph event per run, or there was a metagraph containing a graph_def, as well as one or more graph events.  Overwriting the graph with the newest event.\n"
     ]
    },
    {
     "data": {
      "text/plain": [
       "[<matplotlib.lines.Line2D at 0x1523a53c8>]"
      ]
     },
     "execution_count": 9,
     "metadata": {},
     "output_type": "execute_result"
    },
    {
     "data": {
      "image/png": "[encoded data removed]",
      "text/plain": [
       "<Figure size 432x288 with 1 Axes>"
      ]
     },
     "metadata": {
      "needs_background": "light"
     },
     "output_type": "display_data"
    }
   ],
   "source": [
    "n2n_d = EventAccumulator('../experiments/69_n2n_d/logs/PPO2_1')\n",
    "n2n_d.Reload()\n",
    "\n",
    "w_times_d, step_nums_d, vals_d = zip(*n2n_d.Scalars('episode/episode_reward'))\n",
    "\n",
    "vals_d_smooth = smooth(vals_d,0.99)\n",
    "plt.plot(step_nums_d, vals_d_smooth)"
   ]
  },
  {
   "cell_type": "code",
   "execution_count": null,
   "metadata": {},
   "outputs": [],
   "source": [
    "w_times_d_discounted, step_nums_d_discounted, vals_d_discounted = zip(*n2n_d.Scalars('input_info/discounted_rewards'))\n",
    "\n",
    "vals_d_smooth_discounted = smooth(vals_d_discounted,0.99)\n",
    "plt.plot(step_nums_d_discounted, vals_d_smooth_discounted)\n"
   ]
  },
  {
   "cell_type": "markdown",
   "metadata": {},
   "source": [
    "---\n",
    "\n",
    "### n2n e"
   ]
  },
  {
   "cell_type": "code",
   "execution_count": 10,
   "metadata": {},
   "outputs": [
    {
     "name": "stderr",
     "output_type": "stream",
     "text": [
      "Found more than one graph event per run, or there was a metagraph containing a graph_def, as well as one or more graph events.  Overwriting the graph with the newest event.\n"
     ]
    },
    {
     "data": {
      "text/plain": [
       "<tensorboard.backend.event_processing.event_accumulator.EventAccumulator at 0x1524dc2b0>"
      ]
     },
     "execution_count": 10,
     "metadata": {},
     "output_type": "execute_result"
    }
   ],
   "source": [
    "n2n_e_1 = EventAccumulator('../experiments/70_n2n_e/logs/PPO2_1')\n",
    "n2n_e_1.Reload()\n",
    "\n",
    "n2n_e_2 = EventAccumulator('../experiments/74_n2n_e_cont/logs/PPO2_1')\n",
    "n2n_e_2.Reload()\n",
    "\n",
    "# E. g. get wall clock, number of steps and value for a scalar 'Accuracy'\n",
    "#w_times, step_nums, vals = zip(*event_acc.Scalars('Accuracy'))"
   ]
  },
  {
   "cell_type": "code",
   "execution_count": 11,
   "metadata": {},
   "outputs": [
    {
     "data": {
      "text/plain": [
       "[<matplotlib.lines.Line2D at 0x15bc8ec88>]"
      ]
     },
     "execution_count": 11,
     "metadata": {},
     "output_type": "execute_result"
    },
    {
     "data": {
      "image/png": "[encoded data removed]",
      "text/plain": [
       "<Figure size 432x288 with 1 Axes>"
      ]
     },
     "metadata": {
      "needs_background": "light"
     },
     "output_type": "display_data"
    }
   ],
   "source": [
    "e_w_times_1, e_step_nums_1, e_vals_1 = zip(*n2n_e_1.Scalars('episode/episode_reward'))\n",
    "e_w_times_2, e_step_nums_2, e_vals_2 = zip(*n2n_e_2.Scalars('episode/episode_reward'))\n",
    "\n",
    "e_step_nums_2 = tuple([step + max(e_step_nums_1) for step in e_step_nums_2])\n",
    "\n",
    "w_times_e = e_w_times_1 + e_w_times_2\n",
    "step_nums_e = e_step_nums_1 + e_step_nums_2\n",
    "vals_e = e_vals_1 + e_vals_2\n",
    "\n",
    "vals_e_smooth = smooth(vals_e,0.99)\n",
    "plt.plot(step_nums_e,vals_e_smooth)"
   ]
  },
  {
   "cell_type": "code",
   "execution_count": null,
   "metadata": {},
   "outputs": [],
   "source": [
    "e_w_times_1, e_step_nums_1, e_vals_1 = zip(*n2n_e_1.Scalars('input_info/discounted_rewards'))\n",
    "e_w_times_2, e_step_nums_2, e_vals_2 = zip(*n2n_e_2.Scalars('input_info/discounted_rewards'))\n",
    "\n",
    "e_step_nums_2 = tuple([step + max(e_step_nums_1) for step in e_step_nums_2])\n",
    "\n",
    "w_times_e_discounted = e_w_times_1 + e_w_times_2\n",
    "step_nums_e_discounted = e_step_nums_1 + e_step_nums_2\n",
    "vals_e_discounted = e_vals_1 + e_vals_2\n",
    "\n",
    "vals_e_smooth_discounted = smooth(vals_e_discounted,0.99)\n",
    "plt.plot(step_nums_e_discounted,vals_e_smooth_discounted)"
   ]
  },
  {
   "cell_type": "markdown",
   "metadata": {},
   "source": [
    "---\n",
    "\n",
    "### h a"
   ]
  },
  {
   "cell_type": "code",
   "execution_count": 12,
   "metadata": {},
   "outputs": [
    {
     "data": {
      "text/plain": [
       "[<matplotlib.lines.Line2D at 0x15f908e48>]"
      ]
     },
     "execution_count": 12,
     "metadata": {},
     "output_type": "execute_result"
    },
    {
     "data": {
      "image/png": "[encoded data removed]",
      "text/plain": [
       "<Figure size 432x288 with 1 Axes>"
      ]
     },
     "metadata": {
      "needs_background": "light"
     },
     "output_type": "display_data"
    }
   ],
   "source": [
    "h_a = EventAccumulator('../experiments/17_Turn/logs/PPO2_1')\n",
    "h_a.Reload()\n",
    "\n",
    "w_times_h_a, step_nums_h_a, vals_h_a = zip(*h_a.Scalars('episode/episode_reward'))\n",
    "\n",
    "vals_h_a_smooth = smooth(vals_h_a, 0.99)\n",
    "plt.plot(step_nums_h_a,vals_h_a_smooth)"
   ]
  },
  {
   "cell_type": "code",
   "execution_count": null,
   "metadata": {},
   "outputs": [],
   "source": [
    "w_times_h_a_discounted, step_nums_h_a_discounted, vals_h_a_discounted = zip(*h_a.Scalars('input_info/discounted_rewards'))\n",
    "\n",
    "vals_h_a_smooth_discounted = smooth(vals_h_a_discounted, 0.99)\n",
    "plt.plot(step_nums_h_a_discounted,vals_h_a_smooth_discounted)\n"
   ]
  },
  {
   "cell_type": "markdown",
   "metadata": {},
   "source": [
    "---\n",
    "\n",
    "## h b"
   ]
  },
  {
   "cell_type": "code",
   "execution_count": 13,
   "metadata": {},
   "outputs": [
    {
     "data": {
      "text/plain": [
       "[<matplotlib.lines.Line2D at 0x15fe442b0>]"
      ]
     },
     "execution_count": 13,
     "metadata": {},
     "output_type": "execute_result"
    },
    {
     "data": {
      "image/png": "[encoded data removed]",
      "text/plain": [
       "<Figure size 432x288 with 1 Axes>"
      ]
     },
     "metadata": {
      "needs_background": "light"
     },
     "output_type": "display_data"
    }
   ],
   "source": [
    "h_b = EventAccumulator('../experiments/22_Turn/logs/PPO2_1')\n",
    "h_b.Reload()\n",
    "\n",
    "w_times_h_b, step_nums_h_b, vals_h_b = zip(*h_b.Scalars('episode/episode_reward'))\n",
    "\n",
    "vals_h_b_smooth = smooth(vals_h_b, 0.99)\n",
    "plt.plot(step_nums_h_b, vals_h_b_smooth)"
   ]
  },
  {
   "cell_type": "code",
   "execution_count": null,
   "metadata": {},
   "outputs": [],
   "source": [
    "w_times_h_b_discounted, step_nums_h_b_discounted, vals_h_b_discounted = zip(*h_b.Scalars('input_info/discounted_rewards'))\n",
    "\n",
    "vals_h_b_smooth_discounted = smooth(vals_h_b_discounted, 0.99)\n",
    "plt.plot(step_nums_h_b_discounted, vals_h_b_smooth_discounted)"
   ]
  },
  {
   "cell_type": "markdown",
   "metadata": {},
   "source": [
    "---\n",
    "\n",
    "## h c (not working)"
   ]
  },
  {
   "cell_type": "code",
   "execution_count": 14,
   "metadata": {},
   "outputs": [
    {
     "ename": "DirectoryDeletedError",
     "evalue": "Directory /Volumes/HDD 1/experiments/77_Turn_d/logs/PPO2_1 has been permanently deleted",
     "output_type": "error",
     "traceback": [
      "\u001b[0;31m---------------------------------------------------------------------------\u001b[0m",
      "\u001b[0;31mNotFoundError\u001b[0m                             Traceback (most recent call last)",
      "\u001b[0;32m/miniconda3/envs/HRL/lib/python3.7/site-packages/tensorboard/backend/event_processing/directory_watcher.py\u001b[0m in \u001b[0;36mLoad\u001b[0;34m(self)\u001b[0m\n\u001b[1;32m     88\u001b[0m     \u001b[0;32mtry\u001b[0m\u001b[0;34m:\u001b[0m\u001b[0;34m\u001b[0m\u001b[0;34m\u001b[0m\u001b[0m\n\u001b[0;32m---> 89\u001b[0;31m       \u001b[0;32mfor\u001b[0m \u001b[0mevent\u001b[0m \u001b[0;32min\u001b[0m \u001b[0mself\u001b[0m\u001b[0;34m.\u001b[0m\u001b[0m_LoadInternal\u001b[0m\u001b[0;34m(\u001b[0m\u001b[0;34m)\u001b[0m\u001b[0;34m:\u001b[0m\u001b[0;34m\u001b[0m\u001b[0;34m\u001b[0m\u001b[0m\n\u001b[0m\u001b[1;32m     90\u001b[0m         \u001b[0;32myield\u001b[0m \u001b[0mevent\u001b[0m\u001b[0;34m\u001b[0m\u001b[0;34m\u001b[0m\u001b[0m\n",
      "\u001b[0;32m/miniconda3/envs/HRL/lib/python3.7/site-packages/tensorboard/backend/event_processing/directory_watcher.py\u001b[0m in \u001b[0;36m_LoadInternal\u001b[0;34m(self)\u001b[0m\n\u001b[1;32m    108\u001b[0m     \u001b[0;32mif\u001b[0m \u001b[0;32mnot\u001b[0m \u001b[0mself\u001b[0m\u001b[0;34m.\u001b[0m\u001b[0m_loader\u001b[0m\u001b[0;34m:\u001b[0m\u001b[0;34m\u001b[0m\u001b[0;34m\u001b[0m\u001b[0m\n\u001b[0;32m--> 109\u001b[0;31m       \u001b[0mself\u001b[0m\u001b[0;34m.\u001b[0m\u001b[0m_InitializeLoader\u001b[0m\u001b[0;34m(\u001b[0m\u001b[0;34m)\u001b[0m\u001b[0;34m\u001b[0m\u001b[0;34m\u001b[0m\u001b[0m\n\u001b[0m\u001b[1;32m    110\u001b[0m \u001b[0;34m\u001b[0m\u001b[0m\n",
      "\u001b[0;32m/miniconda3/envs/HRL/lib/python3.7/site-packages/tensorboard/backend/event_processing/directory_watcher.py\u001b[0m in \u001b[0;36m_InitializeLoader\u001b[0;34m(self)\u001b[0m\n\u001b[1;32m    165\u001b[0m   \u001b[0;32mdef\u001b[0m \u001b[0m_InitializeLoader\u001b[0m\u001b[0;34m(\u001b[0m\u001b[0mself\u001b[0m\u001b[0;34m)\u001b[0m\u001b[0;34m:\u001b[0m\u001b[0;34m\u001b[0m\u001b[0;34m\u001b[0m\u001b[0m\n\u001b[0;32m--> 166\u001b[0;31m     \u001b[0mpath\u001b[0m \u001b[0;34m=\u001b[0m \u001b[0mself\u001b[0m\u001b[0;34m.\u001b[0m\u001b[0m_GetNextPath\u001b[0m\u001b[0;34m(\u001b[0m\u001b[0;34m)\u001b[0m\u001b[0;34m\u001b[0m\u001b[0;34m\u001b[0m\u001b[0m\n\u001b[0m\u001b[1;32m    167\u001b[0m     \u001b[0;32mif\u001b[0m \u001b[0mpath\u001b[0m\u001b[0;34m:\u001b[0m\u001b[0;34m\u001b[0m\u001b[0;34m\u001b[0m\u001b[0m\n",
      "\u001b[0;32m/miniconda3/envs/HRL/lib/python3.7/site-packages/tensorboard/backend/event_processing/directory_watcher.py\u001b[0m in \u001b[0;36m_GetNextPath\u001b[0;34m(self)\u001b[0m\n\u001b[1;32m    203\u001b[0m     paths = sorted(path\n\u001b[0;32m--> 204\u001b[0;31m                    \u001b[0;32mfor\u001b[0m \u001b[0mpath\u001b[0m \u001b[0;32min\u001b[0m \u001b[0mio_wrapper\u001b[0m\u001b[0;34m.\u001b[0m\u001b[0mListDirectoryAbsolute\u001b[0m\u001b[0;34m(\u001b[0m\u001b[0mself\u001b[0m\u001b[0;34m.\u001b[0m\u001b[0m_directory\u001b[0m\u001b[0;34m)\u001b[0m\u001b[0;34m\u001b[0m\u001b[0;34m\u001b[0m\u001b[0m\n\u001b[0m\u001b[1;32m    205\u001b[0m                    if self._path_filter(path))\n",
      "\u001b[0;32m/miniconda3/envs/HRL/lib/python3.7/site-packages/tensorboard/backend/event_processing/io_wrapper.py\u001b[0m in \u001b[0;36mListDirectoryAbsolute\u001b[0;34m(directory)\u001b[0m\n\u001b[1;32m     65\u001b[0m   return (os.path.join(directory, path)\n\u001b[0;32m---> 66\u001b[0;31m           for path in tf.io.gfile.listdir(directory))\n\u001b[0m\u001b[1;32m     67\u001b[0m \u001b[0;34m\u001b[0m\u001b[0m\n",
      "\u001b[0;32m/miniconda3/envs/HRL/lib/python3.7/site-packages/tensorflow/python/lib/io/file_io.py\u001b[0m in \u001b[0;36mlist_directory_v2\u001b[0;34m(path)\u001b[0m\n\u001b[1;32m    642\u001b[0m   \u001b[0;32mif\u001b[0m \u001b[0;32mnot\u001b[0m \u001b[0mis_directory\u001b[0m\u001b[0;34m(\u001b[0m\u001b[0mpath\u001b[0m\u001b[0;34m)\u001b[0m\u001b[0;34m:\u001b[0m\u001b[0;34m\u001b[0m\u001b[0;34m\u001b[0m\u001b[0m\n\u001b[0;32m--> 643\u001b[0;31m     \u001b[0;32mraise\u001b[0m \u001b[0merrors\u001b[0m\u001b[0;34m.\u001b[0m\u001b[0mNotFoundError\u001b[0m\u001b[0;34m(\u001b[0m\u001b[0;32mNone\u001b[0m\u001b[0;34m,\u001b[0m \u001b[0;32mNone\u001b[0m\u001b[0;34m,\u001b[0m \u001b[0;34m\"Could not find directory\"\u001b[0m\u001b[0;34m)\u001b[0m\u001b[0;34m\u001b[0m\u001b[0;34m\u001b[0m\u001b[0m\n\u001b[0m\u001b[1;32m    644\u001b[0m   \u001b[0;32mwith\u001b[0m \u001b[0merrors\u001b[0m\u001b[0;34m.\u001b[0m\u001b[0mraise_exception_on_not_ok_status\u001b[0m\u001b[0;34m(\u001b[0m\u001b[0;34m)\u001b[0m \u001b[0;32mas\u001b[0m \u001b[0mstatus\u001b[0m\u001b[0;34m:\u001b[0m\u001b[0;34m\u001b[0m\u001b[0;34m\u001b[0m\u001b[0m\n",
      "\u001b[0;31mNotFoundError\u001b[0m: Could not find directory",
      "\nDuring handling of the above exception, another exception occurred:\n",
      "\u001b[0;31mDirectoryDeletedError\u001b[0m                     Traceback (most recent call last)",
      "\u001b[0;32m<ipython-input-14-746715801618>\u001b[0m in \u001b[0;36m<module>\u001b[0;34m\u001b[0m\n\u001b[1;32m      1\u001b[0m \u001b[0mn2n_c\u001b[0m \u001b[0;34m=\u001b[0m \u001b[0mEventAccumulator\u001b[0m\u001b[0;34m(\u001b[0m\u001b[0;34m'/Volumes/HDD 1/experiments/77_Turn_d/logs/PPO2_1'\u001b[0m\u001b[0;34m)\u001b[0m\u001b[0;34m\u001b[0m\u001b[0;34m\u001b[0m\u001b[0m\n\u001b[0;32m----> 2\u001b[0;31m \u001b[0mn2n_c\u001b[0m\u001b[0;34m.\u001b[0m\u001b[0mReload\u001b[0m\u001b[0;34m(\u001b[0m\u001b[0;34m)\u001b[0m\u001b[0;34m\u001b[0m\u001b[0;34m\u001b[0m\u001b[0m\n\u001b[0m",
      "\u001b[0;32m/miniconda3/envs/HRL/lib/python3.7/site-packages/tensorboard/backend/event_processing/event_accumulator.py\u001b[0m in \u001b[0;36mReload\u001b[0;34m(self)\u001b[0m\n\u001b[1;32m    227\u001b[0m     \"\"\"\n\u001b[1;32m    228\u001b[0m     \u001b[0;32mwith\u001b[0m \u001b[0mself\u001b[0m\u001b[0;34m.\u001b[0m\u001b[0m_generator_mutex\u001b[0m\u001b[0;34m:\u001b[0m\u001b[0;34m\u001b[0m\u001b[0;34m\u001b[0m\u001b[0m\n\u001b[0;32m--> 229\u001b[0;31m       \u001b[0;32mfor\u001b[0m \u001b[0mevent\u001b[0m \u001b[0;32min\u001b[0m \u001b[0mself\u001b[0m\u001b[0;34m.\u001b[0m\u001b[0m_generator\u001b[0m\u001b[0;34m.\u001b[0m\u001b[0mLoad\u001b[0m\u001b[0;34m(\u001b[0m\u001b[0;34m)\u001b[0m\u001b[0;34m:\u001b[0m\u001b[0;34m\u001b[0m\u001b[0;34m\u001b[0m\u001b[0m\n\u001b[0m\u001b[1;32m    230\u001b[0m         \u001b[0mself\u001b[0m\u001b[0;34m.\u001b[0m\u001b[0m_ProcessEvent\u001b[0m\u001b[0;34m(\u001b[0m\u001b[0mevent\u001b[0m\u001b[0;34m)\u001b[0m\u001b[0;34m\u001b[0m\u001b[0;34m\u001b[0m\u001b[0m\n\u001b[1;32m    231\u001b[0m     \u001b[0;32mreturn\u001b[0m \u001b[0mself\u001b[0m\u001b[0;34m\u001b[0m\u001b[0;34m\u001b[0m\u001b[0m\n",
      "\u001b[0;32m/miniconda3/envs/HRL/lib/python3.7/site-packages/tensorboard/backend/event_processing/directory_watcher.py\u001b[0m in \u001b[0;36mLoad\u001b[0;34m(self)\u001b[0m\n\u001b[1;32m     92\u001b[0m       \u001b[0;32mif\u001b[0m \u001b[0;32mnot\u001b[0m \u001b[0mtf\u001b[0m\u001b[0;34m.\u001b[0m\u001b[0mio\u001b[0m\u001b[0;34m.\u001b[0m\u001b[0mgfile\u001b[0m\u001b[0;34m.\u001b[0m\u001b[0mexists\u001b[0m\u001b[0;34m(\u001b[0m\u001b[0mself\u001b[0m\u001b[0;34m.\u001b[0m\u001b[0m_directory\u001b[0m\u001b[0;34m)\u001b[0m\u001b[0;34m:\u001b[0m\u001b[0;34m\u001b[0m\u001b[0;34m\u001b[0m\u001b[0m\n\u001b[1;32m     93\u001b[0m         raise DirectoryDeletedError(\n\u001b[0;32m---> 94\u001b[0;31m             'Directory %s has been permanently deleted' % self._directory)\n\u001b[0m\u001b[1;32m     95\u001b[0m \u001b[0;34m\u001b[0m\u001b[0m\n\u001b[1;32m     96\u001b[0m   \u001b[0;32mdef\u001b[0m \u001b[0m_LoadInternal\u001b[0m\u001b[0;34m(\u001b[0m\u001b[0mself\u001b[0m\u001b[0;34m)\u001b[0m\u001b[0;34m:\u001b[0m\u001b[0;34m\u001b[0m\u001b[0;34m\u001b[0m\u001b[0m\n",
      "\u001b[0;31mDirectoryDeletedError\u001b[0m: Directory /Volumes/HDD 1/experiments/77_Turn_d/logs/PPO2_1 has been permanently deleted"
     ]
    }
   ],
   "source": [
    "n2n_c = EventAccumulator('/Volumes/HDD 1/experiments/77_Turn_d/logs/PPO2_1')\n",
    "n2n_c.Reload()"
   ]
  },
  {
   "cell_type": "code",
   "execution_count": null,
   "metadata": {},
   "outputs": [],
   "source": [
    "c_w_times, c_step_nums, c_vals = zip(*n2n_c.Scalars('episode/episode_reward'))\n",
    "\n",
    "vals_c_smooth = smooth(c_vals,0.99)"
   ]
  },
  {
   "cell_type": "code",
   "execution_count": null,
   "metadata": {},
   "outputs": [],
   "source": [
    "plt.plot(c_step_nums,vals_c_smooth)"
   ]
  },
  {
   "cell_type": "markdown",
   "metadata": {},
   "source": [
    "--- \n",
    "\n",
    "\n",
    "### Saving files\n"
   ]
  },
  {
   "cell_type": "code",
   "execution_count": 16,
   "metadata": {},
   "outputs": [],
   "source": [
    "n2n_a = [w_times_a, step_nums_a, vals_a]\n",
    "n2n_b = [w_times_b, step_nums_b, vals_b]\n",
    "n2n_c = [w_times_c, step_nums_c, vals_c]\n",
    "n2n_d = [w_times_d, step_nums_d, vals_d]\n",
    "n2n_e = [w_times_e, step_nums_e, vals_e]\n",
    "h_a = [w_times_h_a, step_nums_h_a, vals_h_a]\n",
    "h_b = [w_times_h_b, step_nums_h_b, vals_h_b]\n",
    "\n",
    "pickle.dump(n2n_a,open('./Turn_n2n_vs_h/n2n_a.pkl','wb'))\n",
    "pickle.dump(n2n_b,open('./Turn_n2n_vs_h/n2n_b.pkl','wb'))\n",
    "pickle.dump(n2n_c,open('./Turn_n2n_vs_h/n2n_c.pkl','wb'))\n",
    "pickle.dump(n2n_d,open('./Turn_n2n_vs_h/n2n_d.pkl','wb'))\n",
    "pickle.dump(n2n_e,open('./Turn_n2n_vs_h/n2n_e.pkl','wb'))\n",
    "pickle.dump(h_a,open('./Turn_n2n_vs_h/h_a.pkl','wb'))\n",
    "pickle.dump(h_b,open('./Turn_n2n_vs_h/h_b.pkl','wb'))"
   ]
  },
  {
   "cell_type": "markdown",
   "metadata": {},
   "source": [
    "--- \n",
    "\n",
    "# ALL TOGETHER"
   ]
  },
  {
   "cell_type": "code",
   "execution_count": null,
   "metadata": {},
   "outputs": [],
   "source": [
    "w_times_a, step_nums_a, vals_a = pickle.load(open('./Turn_n2n_vs_h/n2n_a.pkl','rb'))\n",
    "w_times_b, step_nums_b, vals_b = pickle.load(open('./Turn_n2n_vs_h/n2n_b.pkl','rb'))\n",
    "w_times_c, step_nums_c, vals_c = pickle.load(open('./Turn_n2n_vs_h/n2n_c.pkl','rb'))\n",
    "w_times_d, step_nums_d, vals_d = pickle.load(open('./Turn_n2n_vs_h/n2n_d.pkl','rb'))\n",
    "w_times_e, step_nums_e, vals_e = pickle.load(open('./Turn_n2n_vs_h/n2n_e.pkl','rb'))\n",
    "w_times_h_a, step_nums_h_a, vals_h_a = pickle.load(open('./Turn_n2n_vs_h/h_a.pkl','rb'))\n",
    "w_times_h_b, step_nums_h_b, vals_h_b = pickle.load(open('./Turn_n2n_vs_h/h_b.pkl','rb'))\n",
    "\n",
    "vals_a_smooth = smooth(vals_a, 0.99)\n",
    "vals_b_smooth = smooth(vals_b, 0.99)\n",
    "vals_c_smooth = smooth(vals_c, 0.99)\n",
    "vals_d_smooth = smooth(vals_d, 0.99)\n",
    "vals_e_smooth = smooth(vals_e, 0.99)\n",
    "vals_h_a_smooth = smooth(vals_h_a, 0.99)\n",
    "vals_h_b_smooth = smooth(vals_h_b, 0.99)"
   ]
  },
  {
   "cell_type": "code",
   "execution_count": null,
   "metadata": {},
   "outputs": [],
   "source": [
    "plt.figure(figsize=(15,9))\n",
    "plt.plot(step_nums_a, vals_a_smooth,alpha=0.5)\n",
    "plt.plot(step_nums_b, vals_b_smooth,alpha=0.5)\n",
    "plt.plot(step_nums_c, vals_c_smooth,alpha=0.5)\n",
    "plt.plot(step_nums_d, vals_d_smooth,alpha=0.5)\n",
    "plt.plot(step_nums_e, vals_e_smooth,alpha=0.5)"
   ]
  },
  {
   "cell_type": "code",
   "execution_count": null,
   "metadata": {},
   "outputs": [],
   "source": [
    "plt.figure(figsize=(15,9))\n",
    "\n",
    "plt.plot(step_nums_h_a, vals_h_a_smooth,alpha=0.5)\n",
    "plt.plot(step_nums_h_b, vals_h_b_smooth,alpha=0.5)"
   ]
  },
  {
   "cell_type": "markdown",
   "metadata": {},
   "source": [
    "---\n",
    "\n",
    "## Max"
   ]
  },
  {
   "cell_type": "code",
   "execution_count": null,
   "metadata": {},
   "outputs": [],
   "source": [
    "print(\"max val under all n2n is \", max(vals_a+vals_b+vals_c+vals_d))\n",
    "print(\"max val under all h   is \", max(vals_h_a+vals_h_b))"
   ]
  },
  {
   "cell_type": "markdown",
   "metadata": {},
   "source": [
    "---"
   ]
  },
  {
   "cell_type": "code",
   "execution_count": null,
   "metadata": {},
   "outputs": [],
   "source": [
    "plt.plot(step_nums_h_a[-2000:],vals_h_a_smooth[-2000:])\n",
    "plt.plot(step_nums_h_b[-2000:],vals_h_b_smooth[-2000:])"
   ]
  },
  {
   "cell_type": "code",
   "execution_count": null,
   "metadata": {},
   "outputs": [],
   "source": [
    "plt.plot(step_nums_a[-2000:], vals_a_smooth[-2000:],alpha=0.5)\n",
    "plt.plot(step_nums_b[-2000:], vals_b_smooth[-2000:],alpha=0.5)\n",
    "plt.plot(step_nums_c[-2000:], vals_c_smooth[-2000:],alpha=0.5)\n",
    "plt.plot(step_nums_d[-2000:], vals_d_smooth[-2000:],alpha=0.5)"
   ]
  },
  {
   "cell_type": "markdown",
   "metadata": {},
   "source": [
    "---\n",
    "\n",
    "## Std"
   ]
  },
  {
   "cell_type": "code",
   "execution_count": null,
   "metadata": {},
   "outputs": [],
   "source": [
    "print(\"avg val under all n2n is %0.2f and the var is %0.2f\" % (\n",
    "    np.mean(vals_a[-2000:]+vals_b[-2000:]+vals_c[-2000:]+vals_d[-2000:]),\n",
    "    np.std(vals_a[-2000:]+vals_b[-2000:]+vals_c[-2000:]+vals_d[-2000:])))\n",
    "print(\"avg val under all h   is %0.2f and the var is %0.2f\" % (\n",
    "    np.mean(vals_h_a[-2000:]+vals_h_b[-2000:]),\n",
    "    np.std(vals_h_a[-2000:]+vals_h_b[-2000:])))"
   ]
  },
  {
   "cell_type": "markdown",
   "metadata": {},
   "source": [
    "---"
   ]
  },
  {
   "cell_type": "code",
   "execution_count": null,
   "metadata": {},
   "outputs": [],
   "source": [
    "plt.figure(figsize=(15,9))\n",
    "\n",
    "plt.plot(step_nums_h_a, vals_h_a_smooth,alpha=0.5)\n",
    "plt.plot(step_nums_h_b, vals_h_b_smooth,alpha=0.5)\n",
    "plt.plot(x[:,1],smooth(x[:,2],0.99))"
   ]
  },
  {
   "cell_type": "code",
   "execution_count": null,
   "metadata": {},
   "outputs": [],
   "source": [
    "x = np.genfromtxt('/hdd/Downloads/run-logs_PPO2_1-tag-episode_episode_reward.csv', delimiter=',')"
   ]
  },
  {
   "cell_type": "code",
   "execution_count": null,
   "metadata": {},
   "outputs": [],
   "source": []
  }
 ],
 "metadata": {
  "kernelspec": {
   "display_name": "Python 3",
   "language": "python",
   "name": "python3"
  },
  "language_info": {
   "codemirror_mode": {
    "name": "ipython",
    "version": 3
   },
   "file_extension": ".py",
   "mimetype": "text/x-python",
   "name": "python",
   "nbconvert_exporter": "python",
   "pygments_lexer": "ipython3",
   "version": "3.7.2"
  }
 },
 "nbformat": 4,
 "nbformat_minor": 2
}
